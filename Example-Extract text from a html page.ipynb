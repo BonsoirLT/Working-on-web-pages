{
 "cells": [
  {
   "cell_type": "code",
   "execution_count": 1,
   "id": "4df2dab2",
   "metadata": {},
   "outputs": [],
   "source": [
    "import requests\n",
    "from bs4 import BeautifulSoup\n",
    "import numpy as np\n",
    "import pandas as pd\n",
    "import time\n",
    "import re"
   ]
  },
  {
   "cell_type": "code",
   "execution_count": 2,
   "id": "0316ba75",
   "metadata": {},
   "outputs": [
    {
     "name": "stdout",
     "output_type": "stream",
     "text": [
      "Retrived the page\n"
     ]
    }
   ],
   "source": [
    "# Send a GET request to the URL\n",
    "url = \"https://prsinfo.clinicaltrials.gov/definitions.html\"\n",
    "response = requests.get(url)\n",
    "\n",
    "# Check if the request was successful\n",
    "if response.status_code == 200:\n",
    "    # Parse the HTML content of the page\n",
    "    soup = BeautifulSoup(response.text, \"html.parser\")\n",
    "    print(\"Retrived the page\")\n",
    "else:\n",
    "    print(\"Failed to load the page\")"
   ]
  },
  {
   "cell_type": "code",
   "execution_count": 14,
   "id": "b036d596",
   "metadata": {},
   "outputs": [],
   "source": [
    "# Extract all elements with the tag \"stong\"\n",
    "paragraphs = soup.find_all(\"strong\")\n",
    "\n",
    "# Get the text contents of each element\n",
    "with open('ctfiling.txt', 'w',encoding=\"utf-8\")  as f:\n",
    "    for p in paragraphs:\n",
    "        item = p.text + '\\n'\n",
    "        f.write(item)\n",
    "    f.write('--------------DIVIDER--------------\\n')\n",
    "f.close()"
   ]
  },
  {
   "cell_type": "code",
   "execution_count": 15,
   "id": "41e398b7",
   "metadata": {},
   "outputs": [
    {
     "name": "stdout",
     "output_type": "stream",
     "text": [
      "64\n"
     ]
    }
   ],
   "source": [
    "# Extract all elements with the tag \"br\" and with \"definition\" in it\n",
    "paragraphs = soup.find_all(\"p\")\n",
    "print(len(paragraphs))\n",
    "# Get the text contents of each element\n",
    "with open('ctfiling.txt', 'a',encoding=\"utf-8\")  as f:\n",
    "    for p in paragraphs:\n",
    "        item = p.text + '\\n'\n",
    "        if \"finition\" in item:\n",
    "            f.write(item)\n",
    "    f.write('--------------DIVIDER--------------\\n')\n",
    "f.close()"
   ]
  },
  {
   "cell_type": "code",
   "execution_count": 16,
   "id": "3dd5a827",
   "metadata": {},
   "outputs": [],
   "source": [
    "with open('ctfiling.txt',encoding=\"utf-8\") as file:\n",
    "    lines = [line.rstrip() for line in file]\n",
    "file.close()"
   ]
  },
  {
   "cell_type": "code",
   "execution_count": 17,
   "id": "ad5af49a",
   "metadata": {},
   "outputs": [
    {
     "data": {
      "text/plain": [
       "'Study Type'"
      ]
     },
     "execution_count": 17,
     "metadata": {},
     "output_type": "execute_result"
    }
   ],
   "source": [
    "lines[8]"
   ]
  },
  {
   "cell_type": "code",
   "execution_count": 19,
   "id": "8d572aca",
   "metadata": {},
   "outputs": [],
   "source": [
    "with open('ctfiling_def.txt', 'w',encoding=\"utf-8\")  as f:\n",
    "    for p in lines:\n",
    "        item = p.strip() + '\\n'\n",
    "        if \"Definition\" in item:\n",
    "            f.write(item)\n",
    "    f.write('--------------DIVIDER--------------\\n')\n",
    "f.close()"
   ]
  },
  {
   "cell_type": "code",
   "execution_count": 22,
   "id": "59b9ae03",
   "metadata": {},
   "outputs": [],
   "source": [
    "with open('ctfiling_nonwhite.txt', 'w',encoding=\"utf-8\")  as f:\n",
    "    count = 0\n",
    "    for p in lines:\n",
    "        item = p.strip() + '\\n'\n",
    "        if item[0] != \" \":\n",
    "            f.write(item)\n",
    "        count = count + 1\n",
    "    f.write('--------------DIVIDER--------------\\n')\n",
    "f.close()"
   ]
  },
  {
   "cell_type": "code",
   "execution_count": null,
   "id": "131b77a9",
   "metadata": {},
   "outputs": [],
   "source": []
  }
 ],
 "metadata": {
  "kernelspec": {
   "display_name": "Python 3",
   "language": "python",
   "name": "python3"
  },
  "language_info": {
   "codemirror_mode": {
    "name": "ipython",
    "version": 3
   },
   "file_extension": ".py",
   "mimetype": "text/x-python",
   "name": "python",
   "nbconvert_exporter": "python",
   "pygments_lexer": "ipython3",
   "version": "3.8.10"
  }
 },
 "nbformat": 4,
 "nbformat_minor": 5
}
